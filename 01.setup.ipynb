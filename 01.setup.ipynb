{
 "cells": [
  {
   "cell_type": "markdown",
   "id": "86ef8b35",
   "metadata": {},
   "source": [
    "# Setup"
   ]
  },
  {
   "cell_type": "code",
   "execution_count": null,
   "id": "e9ada5b7",
   "metadata": {},
   "outputs": [
    {
     "name": "stdout",
     "output_type": "stream",
     "text": [
      "Folder 'data' has been created.\n",
      "Folder 'image' has been created.\n",
      "Folder 'utils' has been created.\n",
      "Folder 'paper' has been created.\n"
     ]
    }
   ],
   "source": [
    "import os\n",
    "\n",
    "def create_folders_if_not_exist():\n",
    "    folders = ['data', 'image', 'utils', 'paper']\n",
    "    for folder in folders:\n",
    "        if not os.path.exists(folder):\n",
    "            os.makedirs(folder)\n",
    "            print(f\"Folder '{folder}' has been created.\")\n",
    "        else:\n",
    "            print(f\"Folder '{folder}' already exists.\")\n",
    "\n",
    "create_folders_if_not_exist()"
   ]
  }
 ],
 "metadata": {
  "kernelspec": {
   "display_name": ".venv",
   "language": "python",
   "name": "python3"
  },
  "language_info": {
   "codemirror_mode": {
    "name": "ipython",
    "version": 3
   },
   "file_extension": ".py",
   "mimetype": "text/x-python",
   "name": "python",
   "nbconvert_exporter": "python",
   "pygments_lexer": "ipython3",
   "version": "3.10.12"
  }
 },
 "nbformat": 4,
 "nbformat_minor": 5
}

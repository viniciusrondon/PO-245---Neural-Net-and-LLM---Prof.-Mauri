{
 "cells": [
  {
   "cell_type": "markdown",
   "id": "fbf3ba40",
   "metadata": {},
   "source": [
    "\n",
    "# LIST–IV — Multiple Linear Regression vs. ANN \n",
    "\n",
    "**Purpose.** This notebook solves the full set of tasks in *First Part* (1.1–1.9) and *Second Part* (2.0–2.1).\n",
    "\n",
    "**Contents**\n",
    "1. Data loading and quick inspection  \n",
    "2. MLRM via OLS (**statsmodels**) + ANOVA + full inference outputs  \n",
    "3. Assumption checks and residual diagnostics (normality, homoscedasticity, linearity, autocorrelation, multicollinearity)  \n",
    "4. 3D interactive plot of the fitted hyperplane (Plotly)  \n",
    "5. ANN \n",
    "6. Model comparison and brief complexity discussion\n"
   ]
  },
  {
   "cell_type": "markdown",
   "id": "6310c696",
   "metadata": {},
   "source": [
    "## Problem Statement and Tasks (from the handout)\n",
    "\n",
    "We want a model to predict the **annual profit margin** ($Y$) for savings and loan associations using two predictors:\n",
    "\n",
    "- ($X_1$): annual net income (revenue) per dollar deposited  \n",
    "- ($X_2$): number of savings and loan offices \n",
    "\n",
    "### First Part\n",
    "1.1 Fit a multiple linear regression ($Y=\\beta_0+\\beta_1X_1+\\beta_2X_2+\\varepsilon$).  \n",
    "1.2 Analyze the ANOVA table.  \n",
    "1.3 Plot the adjusted plane with 3D interactivity.  \n",
    "1.4 Check residual **normality**.  \n",
    "1.5 Check **homoscedasticity**.  \n",
    "1.6 Check **linearity** of the specification.  \n",
    "1.7 Check **absence of serial autocorrelation**.  \n",
    "1.8 Check **multicollinearity**.  \n",
    "1.9 Interpret all tests.\n",
    "\n",
    "### Second Part\n",
    "2.0 Build an **ANN** (MLP) to model ($Y$) from ($(X_1,X_2)$).  \n",
    "2.1 Compare the **MLRM** with the **ANN**, including a brief **Big‑O** cost discussion.\n"
   ]
  },
  {
   "cell_type": "code",
   "execution_count": 43,
   "id": "3d7a7f07",
   "metadata": {},
   "outputs": [],
   "source": [
    "\n",
    "# === Imports ===\n",
    "import numpy as np\n",
    "import pandas as pd\n",
    "\n",
    "# Inference & diagnostics\n",
    "import statsmodels.api as sm\n",
    "import statsmodels.formula.api as smf\n",
    "import statsmodels.stats.api as sms\n",
    "from statsmodels.stats.outliers_influence import variance_inflation_factor\n",
    "from scipy import stats\n",
    "\n",
    "# Plots\n",
    "import matplotlib.pyplot as plt\n",
    "import plotly.graph_objects as go\n",
    "from IPython.display import display\n",
    "\n",
    "# ML baselines & CV utilities\n",
    "from sklearn.model_selection import KFold\n",
    "from sklearn.metrics import r2_score, mean_squared_error\n",
    "from sklearn.preprocessing import StandardScaler\n",
    "from sklearn.neural_network import MLPRegressor\n",
    "from sklearn.pipeline import Pipeline\n",
    "\n",
    "# Optional: TensorFlow/Keras (if available in your environment)\n",
    "try:\n",
    "    import tensorflow as tf\n",
    "    from tensorflow import keras\n",
    "    TF_AVAILABLE = True\n",
    "except Exception:\n",
    "    TF_AVAILABLE = False\n",
    "    print('TensorFlow not available; ANN will fall back to scikit-learn MLP.')\n",
    "\n",
    "pd.set_option(\"display.float_format\", lambda x: f\"{x:.6f}\")\n"
   ]
  },
  {
   "cell_type": "markdown",
   "id": "9b322322",
   "metadata": {},
   "source": [
    "## 1) Load Data and Build $(X, Y)$\n",
    "\n",
    "**Intuition.** I represent the sample as matrices/vectors: $(X=\\begin{bmatrix}\\mathbf{1}&X_1&X_2\\end{bmatrix})$ and $(Y)$. OLS finds the plane $(\\hat y=\\beta_0+\\beta_1 x_1+\\beta_2 x_2)$ minimizing the sum of squared residuals.\n"
   ]
  },
  {
   "cell_type": "code",
   "execution_count": 44,
   "id": "d7158428",
   "metadata": {},
   "outputs": [
    {
     "data": {
      "text/html": [
       "<div>\n",
       "<style scoped>\n",
       "    .dataframe tbody tr th:only-of-type {\n",
       "        vertical-align: middle;\n",
       "    }\n",
       "\n",
       "    .dataframe tbody tr th {\n",
       "        vertical-align: top;\n",
       "    }\n",
       "\n",
       "    .dataframe thead th {\n",
       "        text-align: right;\n",
       "    }\n",
       "</style>\n",
       "<table border=\"1\" class=\"dataframe\">\n",
       "  <thead>\n",
       "    <tr style=\"text-align: right;\">\n",
       "      <th></th>\n",
       "      <th>Year</th>\n",
       "      <th>X1</th>\n",
       "      <th>X2</th>\n",
       "      <th>Y</th>\n",
       "    </tr>\n",
       "  </thead>\n",
       "  <tbody>\n",
       "    <tr>\n",
       "      <th>0</th>\n",
       "      <td>1</td>\n",
       "      <td>3.920000</td>\n",
       "      <td>7298</td>\n",
       "      <td>0.750000</td>\n",
       "    </tr>\n",
       "    <tr>\n",
       "      <th>1</th>\n",
       "      <td>2</td>\n",
       "      <td>3.610000</td>\n",
       "      <td>6855</td>\n",
       "      <td>0.710000</td>\n",
       "    </tr>\n",
       "    <tr>\n",
       "      <th>2</th>\n",
       "      <td>3</td>\n",
       "      <td>3.320000</td>\n",
       "      <td>6636</td>\n",
       "      <td>0.660000</td>\n",
       "    </tr>\n",
       "    <tr>\n",
       "      <th>3</th>\n",
       "      <td>4</td>\n",
       "      <td>3.070000</td>\n",
       "      <td>6506</td>\n",
       "      <td>0.610000</td>\n",
       "    </tr>\n",
       "    <tr>\n",
       "      <th>4</th>\n",
       "      <td>5</td>\n",
       "      <td>3.060000</td>\n",
       "      <td>6450</td>\n",
       "      <td>0.700000</td>\n",
       "    </tr>\n",
       "    <tr>\n",
       "      <th>5</th>\n",
       "      <td>6</td>\n",
       "      <td>3.110000</td>\n",
       "      <td>6402</td>\n",
       "      <td>0.720000</td>\n",
       "    </tr>\n",
       "    <tr>\n",
       "      <th>6</th>\n",
       "      <td>7</td>\n",
       "      <td>3.210000</td>\n",
       "      <td>6368</td>\n",
       "      <td>0.770000</td>\n",
       "    </tr>\n",
       "    <tr>\n",
       "      <th>7</th>\n",
       "      <td>8</td>\n",
       "      <td>3.260000</td>\n",
       "      <td>6340</td>\n",
       "      <td>0.740000</td>\n",
       "    </tr>\n",
       "    <tr>\n",
       "      <th>8</th>\n",
       "      <td>9</td>\n",
       "      <td>3.420000</td>\n",
       "      <td>6349</td>\n",
       "      <td>0.900000</td>\n",
       "    </tr>\n",
       "    <tr>\n",
       "      <th>9</th>\n",
       "      <td>10</td>\n",
       "      <td>3.420000</td>\n",
       "      <td>6352</td>\n",
       "      <td>0.820000</td>\n",
       "    </tr>\n",
       "  </tbody>\n",
       "</table>\n",
       "</div>"
      ],
      "text/plain": [
       "   Year       X1    X2        Y\n",
       "0     1 3.920000  7298 0.750000\n",
       "1     2 3.610000  6855 0.710000\n",
       "2     3 3.320000  6636 0.660000\n",
       "3     4 3.070000  6506 0.610000\n",
       "4     5 3.060000  6450 0.700000\n",
       "5     6 3.110000  6402 0.720000\n",
       "6     7 3.210000  6368 0.770000\n",
       "7     8 3.260000  6340 0.740000\n",
       "8     9 3.420000  6349 0.900000\n",
       "9    10 3.420000  6352 0.820000"
      ]
     },
     "metadata": {},
     "output_type": "display_data"
    },
    {
     "name": "stdout",
     "output_type": "stream",
     "text": [
      "n = 25 observations\n"
     ]
    }
   ],
   "source": [
    "\n",
    "# The 25 yearly observations from the handout\n",
    "data = [\n",
    "    (1, 3.92, 7298, 0.75),\n",
    "    (2, 3.61, 6855, 0.71),\n",
    "    (3, 3.32, 6636, 0.66),\n",
    "    (4, 3.07, 6506, 0.61),\n",
    "    (5, 3.06, 6450, 0.70),\n",
    "    (6, 3.11, 6402, 0.72),\n",
    "    (7, 3.21, 6368, 0.77),\n",
    "    (8, 3.26, 6340, 0.74),\n",
    "    (9, 3.42, 6349, 0.90),\n",
    "    (10, 3.42, 6352, 0.82),\n",
    "    (11, 3.45, 6361, 0.75),\n",
    "    (12, 3.58, 6369, 0.77),\n",
    "    (13, 3.66, 6546, 0.78),\n",
    "    (14, 3.78, 6672, 0.84),\n",
    "    (15, 3.82, 6890, 0.79),\n",
    "    (16, 3.97, 7115, 0.70),\n",
    "    (17, 4.07, 7327, 0.68),\n",
    "    (18, 4.25, 7546, 0.72),\n",
    "    (19, 4.41, 7931, 0.55),\n",
    "    (20, 4.49, 8097, 0.63),\n",
    "    (21, 4.70, 8468, 0.56),\n",
    "    (22, 4.58, 8717, 0.41),\n",
    "    (23, 4.69, 8991, 0.51),\n",
    "    (24, 4.71, 9179, 0.47),\n",
    "    (25, 4.78, 9318, 0.32),\n",
    "]\n",
    "df = pd.DataFrame(data, columns=[\"Year\", \"X1\", \"X2\", \"Y\"])\n",
    "display(df.head(10))\n",
    "print(f\"n = {len(df)} observations\")\n"
   ]
  },
  {
   "cell_type": "markdown",
   "id": "4d8b72b3",
   "metadata": {},
   "source": [
    "## 2) OLS Fit (statsmodels) and ANOVA\n",
    "\n",
    "**Intuition.** OLS is the **orthogonal projection** of $(Y)$ onto the span of $(\\{1,X_1,X_2\\})$. Under Gauss–Markov, OLS is BLUE; with normal errors, the usual $(t)/(F)$ tests are valid.\n"
   ]
  },
  {
   "cell_type": "code",
   "execution_count": 45,
   "id": "9adf3d83",
   "metadata": {},
   "outputs": [
    {
     "name": "stdout",
     "output_type": "stream",
     "text": [
      "                            OLS Regression Results                            \n",
      "==============================================================================\n",
      "Dep. Variable:                      Y   R-squared:                       0.865\n",
      "Model:                            OLS   Adj. R-squared:                  0.853\n",
      "Method:                 Least Squares   F-statistic:                     70.66\n",
      "Date:                Tue, 09 Sep 2025   Prob (F-statistic):           2.65e-10\n",
      "Time:                        19:55:29   Log-Likelihood:                 39.419\n",
      "No. Observations:                  25   AIC:                            -72.84\n",
      "Df Residuals:                      22   BIC:                            -69.18\n",
      "Df Model:                           2                                         \n",
      "Covariance Type:            nonrobust                                         \n",
      "==============================================================================\n",
      "                 coef    std err          t      P>|t|      [0.025      0.975]\n",
      "------------------------------------------------------------------------------\n",
      "Intercept      1.5645      0.079     19.705      0.000       1.400       1.729\n",
      "X1             0.2372      0.056      4.269      0.000       0.122       0.352\n",
      "X2            -0.0002    3.2e-05     -7.772      0.000      -0.000      -0.000\n",
      "==============================================================================\n",
      "Omnibus:                        1.085   Durbin-Watson:                   1.948\n",
      "Prob(Omnibus):                  0.581   Jarque-Bera (JB):                0.930\n",
      "Skew:                           0.239   Prob(JB):                        0.628\n",
      "Kurtosis:                       2.184   Cond. No.                     5.45e+04\n",
      "==============================================================================\n",
      "\n",
      "Notes:\n",
      "[1] Standard Errors assume that the covariance matrix of the errors is correctly specified.\n",
      "[2] The condition number is large, 5.45e+04. This might indicate that there are\n",
      "strong multicollinearity or other numerical problems.\n"
     ]
    }
   ],
   "source": [
    "\n",
    "ols = smf.ols(\"Y ~ X1 + X2\", data=df).fit()\n",
    "print(ols.summary())\n"
   ]
  },
  {
   "cell_type": "code",
   "execution_count": 46,
   "id": "34793f2b",
   "metadata": {},
   "outputs": [
    {
     "data": {
      "text/html": [
       "<div>\n",
       "<style scoped>\n",
       "    .dataframe tbody tr th:only-of-type {\n",
       "        vertical-align: middle;\n",
       "    }\n",
       "\n",
       "    .dataframe tbody tr th {\n",
       "        vertical-align: top;\n",
       "    }\n",
       "\n",
       "    .dataframe thead th {\n",
       "        text-align: right;\n",
       "    }\n",
       "</style>\n",
       "<table border=\"1\" class=\"dataframe\">\n",
       "  <thead>\n",
       "    <tr style=\"text-align: right;\">\n",
       "      <th></th>\n",
       "      <th>DF</th>\n",
       "      <th>SS</th>\n",
       "      <th>MS</th>\n",
       "      <th>F</th>\n",
       "      <th>p-value</th>\n",
       "    </tr>\n",
       "  </thead>\n",
       "  <tbody>\n",
       "    <tr>\n",
       "      <th>X1</th>\n",
       "      <td>1.000000</td>\n",
       "      <td>0.229898</td>\n",
       "      <td>0.229898</td>\n",
       "      <td>80.917947</td>\n",
       "      <td>0.000000</td>\n",
       "    </tr>\n",
       "    <tr>\n",
       "      <th>X2</th>\n",
       "      <td>1.000000</td>\n",
       "      <td>0.171613</td>\n",
       "      <td>0.171613</td>\n",
       "      <td>60.403194</td>\n",
       "      <td>0.000000</td>\n",
       "    </tr>\n",
       "    <tr>\n",
       "      <th>Residual</th>\n",
       "      <td>22.000000</td>\n",
       "      <td>0.062505</td>\n",
       "      <td>0.002841</td>\n",
       "      <td>NaN</td>\n",
       "      <td>NaN</td>\n",
       "    </tr>\n",
       "  </tbody>\n",
       "</table>\n",
       "</div>"
      ],
      "text/plain": [
       "                DF       SS       MS         F  p-value\n",
       "X1        1.000000 0.229898 0.229898 80.917947 0.000000\n",
       "X2        1.000000 0.171613 0.171613 60.403194 0.000000\n",
       "Residual 22.000000 0.062505 0.002841       NaN      NaN"
      ]
     },
     "metadata": {},
     "output_type": "display_data"
    },
    {
     "data": {
      "text/html": [
       "<div>\n",
       "<style scoped>\n",
       "    .dataframe tbody tr th:only-of-type {\n",
       "        vertical-align: middle;\n",
       "    }\n",
       "\n",
       "    .dataframe tbody tr th {\n",
       "        vertical-align: top;\n",
       "    }\n",
       "\n",
       "    .dataframe thead th {\n",
       "        text-align: right;\n",
       "    }\n",
       "</style>\n",
       "<table border=\"1\" class=\"dataframe\">\n",
       "  <thead>\n",
       "    <tr style=\"text-align: right;\">\n",
       "      <th></th>\n",
       "      <th>coef</th>\n",
       "      <th>std_err</th>\n",
       "      <th>t</th>\n",
       "      <th>p&gt;|t|</th>\n",
       "    </tr>\n",
       "    <tr>\n",
       "      <th>Term</th>\n",
       "      <th></th>\n",
       "      <th></th>\n",
       "      <th></th>\n",
       "      <th></th>\n",
       "    </tr>\n",
       "  </thead>\n",
       "  <tbody>\n",
       "    <tr>\n",
       "      <th>Intercept</th>\n",
       "      <td>1.564497</td>\n",
       "      <td>0.079396</td>\n",
       "      <td>19.704987</td>\n",
       "      <td>0.000000</td>\n",
       "    </tr>\n",
       "    <tr>\n",
       "      <th>X1</th>\n",
       "      <td>0.237197</td>\n",
       "      <td>0.055559</td>\n",
       "      <td>4.269262</td>\n",
       "      <td>0.000313</td>\n",
       "    </tr>\n",
       "    <tr>\n",
       "      <th>X2</th>\n",
       "      <td>-0.000249</td>\n",
       "      <td>0.000032</td>\n",
       "      <td>-7.771949</td>\n",
       "      <td>0.000000</td>\n",
       "    </tr>\n",
       "  </tbody>\n",
       "</table>\n",
       "</div>"
      ],
      "text/plain": [
       "               coef  std_err         t    p>|t|\n",
       "Term                                           \n",
       "Intercept  1.564497 0.079396 19.704987 0.000000\n",
       "X1         0.237197 0.055559  4.269262 0.000313\n",
       "X2        -0.000249 0.000032 -7.771949 0.000000"
      ]
     },
     "metadata": {},
     "output_type": "display_data"
    },
    {
     "data": {
      "text/html": [
       "<div>\n",
       "<style scoped>\n",
       "    .dataframe tbody tr th:only-of-type {\n",
       "        vertical-align: middle;\n",
       "    }\n",
       "\n",
       "    .dataframe tbody tr th {\n",
       "        vertical-align: top;\n",
       "    }\n",
       "\n",
       "    .dataframe thead th {\n",
       "        text-align: right;\n",
       "    }\n",
       "</style>\n",
       "<table border=\"1\" class=\"dataframe\">\n",
       "  <thead>\n",
       "    <tr style=\"text-align: right;\">\n",
       "      <th></th>\n",
       "      <th>Metric</th>\n",
       "      <th>Value</th>\n",
       "    </tr>\n",
       "  </thead>\n",
       "  <tbody>\n",
       "    <tr>\n",
       "      <th>0</th>\n",
       "      <td>Observations (n)</td>\n",
       "      <td>25.000000</td>\n",
       "    </tr>\n",
       "    <tr>\n",
       "      <th>1</th>\n",
       "      <td>Parameters (p incl. intercept)</td>\n",
       "      <td>3.000000</td>\n",
       "    </tr>\n",
       "    <tr>\n",
       "      <th>2</th>\n",
       "      <td>Residual DF</td>\n",
       "      <td>22.000000</td>\n",
       "    </tr>\n",
       "    <tr>\n",
       "      <th>3</th>\n",
       "      <td>Multiple R</td>\n",
       "      <td>0.930213</td>\n",
       "    </tr>\n",
       "    <tr>\n",
       "      <th>4</th>\n",
       "      <td>R Square</td>\n",
       "      <td>0.865296</td>\n",
       "    </tr>\n",
       "    <tr>\n",
       "      <th>5</th>\n",
       "      <td>Adjusted R Square</td>\n",
       "      <td>0.853050</td>\n",
       "    </tr>\n",
       "    <tr>\n",
       "      <th>6</th>\n",
       "      <td>Residual Std. Error (S)</td>\n",
       "      <td>0.053302</td>\n",
       "    </tr>\n",
       "    <tr>\n",
       "      <th>7</th>\n",
       "      <td>F-statistic</td>\n",
       "      <td>70.660571</td>\n",
       "    </tr>\n",
       "    <tr>\n",
       "      <th>8</th>\n",
       "      <td>Prob(F)</td>\n",
       "      <td>0.000000</td>\n",
       "    </tr>\n",
       "    <tr>\n",
       "      <th>9</th>\n",
       "      <td>AIC</td>\n",
       "      <td>-72.837775</td>\n",
       "    </tr>\n",
       "    <tr>\n",
       "      <th>10</th>\n",
       "      <td>BIC</td>\n",
       "      <td>-69.181148</td>\n",
       "    </tr>\n",
       "  </tbody>\n",
       "</table>\n",
       "</div>"
      ],
      "text/plain": [
       "                            Metric      Value\n",
       "0                 Observations (n)  25.000000\n",
       "1   Parameters (p incl. intercept)   3.000000\n",
       "2                      Residual DF  22.000000\n",
       "3                       Multiple R   0.930213\n",
       "4                         R Square   0.865296\n",
       "5                Adjusted R Square   0.853050\n",
       "6          Residual Std. Error (S)   0.053302\n",
       "7                      F-statistic  70.660571\n",
       "8                          Prob(F)   0.000000\n",
       "9                              AIC -72.837775\n",
       "10                             BIC -69.181148"
      ]
     },
     "metadata": {},
     "output_type": "display_data"
    }
   ],
   "source": [
    "\n",
    "anova = sm.stats.anova_lm(ols, typ=1).rename(\n",
    "    columns={\"df\":\"DF\",\"sum_sq\":\"SS\",\"mean_sq\":\"MS\",\"F\":\"F\",\"PR(>F)\":\"p-value\"}\n",
    ")\n",
    "display(anova)\n",
    "\n",
    "coef_table = pd.DataFrame({\n",
    "    \"coef\": ols.params,\n",
    "    \"std_err\": ols.bse,\n",
    "    \"t\": ols.tvalues,\n",
    "    \"p>|t|\": ols.pvalues\n",
    "})\n",
    "coef_table.index.name = \"Term\"\n",
    "display(coef_table)\n",
    "\n",
    "n = len(df)\n",
    "p = len(ols.params)               # includes intercept\n",
    "df_resid = int(ols.df_resid)\n",
    "RSS = np.sum(ols.resid**2)\n",
    "MSE = RSS / df_resid\n",
    "S = np.sqrt(MSE)\n",
    "perf = pd.DataFrame({\n",
    "    \"Metric\":[\n",
    "        \"Observations (n)\",\"Parameters (p incl. intercept)\",\"Residual DF\",\n",
    "        \"Multiple R\",\"R Square\",\"Adjusted R Square\",\n",
    "        \"Residual Std. Error (S)\",\"F-statistic\",\"Prob(F)\",\"AIC\",\"BIC\"\n",
    "    ],\n",
    "    \"Value\":[\n",
    "        n, p, df_resid, np.sqrt(ols.rsquared), ols.rsquared, ols.rsquared_adj,\n",
    "        S, ols.fvalue, ols.f_pvalue, ols.aic, ols.bic\n",
    "    ]\n",
    "})\n",
    "display(perf)\n"
   ]
  },
  {
   "cell_type": "markdown",
   "id": "7dd43c99",
   "metadata": {},
   "source": [
    "\n",
    "1. n = 25 observations\n",
    "\tused **all** 25 rows.\n",
    "\n",
    "2. **Df Model: 2**  \n",
    "\tIt’s the number of slope parameters \n",
    "\t\t($X_1, X_2$​), i.e. $k=2$.\n",
    "\n",
    "\n",
    "3. **Df Residuals: 22**  \n",
    "\tResidual degrees of freedom \n",
    "\t\t$n−(k+1)=25−3=22$.  \n",
    "\t(Subtract the two slopes **and** the intercept.)\n",
    "\n",
    "\n",
    "> Intuition: fit 3 coefficients, so it “spend” 3 degrees of freedom; \n",
    "> the remaining 22 are used to estimate the error variance.\n",
    "\n",
    "\n",
    "4. $R^2=0.865$  \n",
    "    It’s the **proportion of variance of $Y$ explained by the plane:\n",
    "    \n",
    "    $$R^2 \\;=\\; 1 - \\frac{\\text{RSS}}{\\text{TSS}}. \\tag{04}$$\n",
    "> Closer to 1 ⇒ better in-sample fit. \n",
    "> Here, **86.5%** of the variability in $Y$ is explained by $(X_1,X_2)$.\n",
    "\n",
    "\n",
    "5. Adjusted $R^2 = 0.853$  \n",
    "    Penalizes adding predictors that don’t help much:\n",
    "    \n",
    "    $$\\bar R^2 \\;=\\; 1 - \\frac{\\text{RSS}/(n-k-1)}{\\text{TSS}/(n-1)}. \\tag{05}$$\n",
    "    \n",
    "    If it is added variables that only chase noise, adjusted $R^2$ goes **down**. \n",
    "    Here it stays high ⇒ both regressors are useful.\n",
    "    \n",
    "\n",
    "> The model explains 86.5% of the variance in profit margin, after adjusting for model size, the explained variance remains high ($adj.R^2=0.853$).\n",
    "\n",
    "\n",
    "\n",
    "\n",
    "6. $F-statistic = 70.66$, $Prob(F) = 2.65\\times 10^{-10}$  \n",
    "    Tests the joint null $H_0:\\beta_1=\\beta_2=0$ \n",
    "    \n",
    "    $$F \\;=\\; \\frac{(\\text{TSS}-\\text{RSS})/k}{\\text{RSS}/(n-k-1)}\\quad \\text{with }(k,\\,n-k-1)=(2,22) \\text{ d.f.} \\tag{06}$$    \n",
    "> Tiny $p-value$ ⇒ **the plane is informative**.\n",
    "\n",
    "\n",
    "6. Coefficients\n",
    "\t1. - $Intercept 1.5645$: expected $Y$ when $X_1=X_2=0$. \n",
    "    \n",
    "\t2. $X_1​ slope$ $= 0.2372$\n",
    "    \n",
    "\t3. $X_2 slope = - 0.000249$\n",
    "    \n",
    "\n",
    "7. std_err  \n",
    "\tThe standard deviation of the sampling distribution of $\\hat\\beta$​. Small **relative to the coefficient** ⇒ precise estimate.\n",
    "\n",
    "\n",
    "\n",
    "8. $p>|t|$  \n",
    "\tTwo-sided p-value for that $t-test$. Small $p$  ⇒ coefficient **statistically different from zero**.\n",
    "\n",
    "\n"
   ]
  },
  {
   "cell_type": "markdown",
   "id": "55e057a3",
   "metadata": {},
   "source": [
    "\n",
    "## 3) Assumption Checks & Diagnostics\n",
    "\n",
    "**Intuition.**  \n",
    "- **Normality** ensures exact small‑sample $(t)/(F)$; check Q–Q and Shapiro–Wilk.  \n",
    "- **Homoscedasticity** validates SEs; test with Breusch–Pagan and White.  \n",
    "- **Linearity** (RESET) checks omitted nonlinearities.  \n",
    "- **Autocorrelation** (Durbin–Watson).  \n",
    "- **Multicollinearity**: report VIFs.\n"
   ]
  },
  {
   "cell_type": "code",
   "execution_count": 47,
   "id": "d9a1a2bb",
   "metadata": {},
   "outputs": [
    {
     "data": {
      "text/html": [
       "<div>\n",
       "<style scoped>\n",
       "    .dataframe tbody tr th:only-of-type {\n",
       "        vertical-align: middle;\n",
       "    }\n",
       "\n",
       "    .dataframe tbody tr th {\n",
       "        vertical-align: top;\n",
       "    }\n",
       "\n",
       "    .dataframe thead th {\n",
       "        text-align: right;\n",
       "    }\n",
       "</style>\n",
       "<table border=\"1\" class=\"dataframe\">\n",
       "  <thead>\n",
       "    <tr style=\"text-align: right;\">\n",
       "      <th></th>\n",
       "      <th>Test</th>\n",
       "      <th>Statistic / p-value</th>\n",
       "    </tr>\n",
       "  </thead>\n",
       "  <tbody>\n",
       "    <tr>\n",
       "      <th>0</th>\n",
       "      <td>Shapiro–Wilk (Normality)</td>\n",
       "      <td>stat=0.9700, p=0.6453</td>\n",
       "    </tr>\n",
       "    <tr>\n",
       "      <th>1</th>\n",
       "      <td>Breusch–Pagan LM p-value</td>\n",
       "      <td>p=0.4264</td>\n",
       "    </tr>\n",
       "    <tr>\n",
       "      <th>2</th>\n",
       "      <td>Breusch–Pagan F p-value</td>\n",
       "      <td>p=0.4599</td>\n",
       "    </tr>\n",
       "    <tr>\n",
       "      <th>3</th>\n",
       "      <td>White LM p-value</td>\n",
       "      <td>p=0.5948</td>\n",
       "    </tr>\n",
       "    <tr>\n",
       "      <th>4</th>\n",
       "      <td>White F p-value</td>\n",
       "      <td>p=0.6594</td>\n",
       "    </tr>\n",
       "    <tr>\n",
       "      <th>5</th>\n",
       "      <td>Ramsey RESET F p-value</td>\n",
       "      <td>F=0.2526, p=0.6205</td>\n",
       "    </tr>\n",
       "    <tr>\n",
       "      <th>6</th>\n",
       "      <td>Durbin–Watson</td>\n",
       "      <td>1.9483</td>\n",
       "    </tr>\n",
       "  </tbody>\n",
       "</table>\n",
       "</div>"
      ],
      "text/plain": [
       "                       Test    Statistic / p-value\n",
       "0  Shapiro–Wilk (Normality)  stat=0.9700, p=0.6453\n",
       "1  Breusch–Pagan LM p-value               p=0.4264\n",
       "2   Breusch–Pagan F p-value               p=0.4599\n",
       "3          White LM p-value               p=0.5948\n",
       "4           White F p-value               p=0.6594\n",
       "5    Ramsey RESET F p-value     F=0.2526, p=0.6205\n",
       "6             Durbin–Watson                 1.9483"
      ]
     },
     "metadata": {},
     "output_type": "display_data"
    },
    {
     "data": {
      "text/html": [
       "<div>\n",
       "<style scoped>\n",
       "    .dataframe tbody tr th:only-of-type {\n",
       "        vertical-align: middle;\n",
       "    }\n",
       "\n",
       "    .dataframe tbody tr th {\n",
       "        vertical-align: top;\n",
       "    }\n",
       "\n",
       "    .dataframe thead th {\n",
       "        text-align: right;\n",
       "    }\n",
       "</style>\n",
       "<table border=\"1\" class=\"dataframe\">\n",
       "  <thead>\n",
       "    <tr style=\"text-align: right;\">\n",
       "      <th></th>\n",
       "      <th>feature</th>\n",
       "      <th>VIF</th>\n",
       "    </tr>\n",
       "  </thead>\n",
       "  <tbody>\n",
       "    <tr>\n",
       "      <th>0</th>\n",
       "      <td>Intercept</td>\n",
       "      <td>55.468510</td>\n",
       "    </tr>\n",
       "    <tr>\n",
       "      <th>1</th>\n",
       "      <td>X1</td>\n",
       "      <td>8.732060</td>\n",
       "    </tr>\n",
       "    <tr>\n",
       "      <th>2</th>\n",
       "      <td>X2</td>\n",
       "      <td>8.732060</td>\n",
       "    </tr>\n",
       "  </tbody>\n",
       "</table>\n",
       "</div>"
      ],
      "text/plain": [
       "     feature       VIF\n",
       "0  Intercept 55.468510\n",
       "1         X1  8.732060\n",
       "2         X2  8.732060"
      ]
     },
     "metadata": {},
     "output_type": "display_data"
    }
   ],
   "source": [
    "\n",
    "from scipy import stats\n",
    "import statsmodels.stats.api as sms\n",
    "from statsmodels.stats.outliers_influence import variance_inflation_factor\n",
    "\n",
    "# Normality\n",
    "shapiro_stat, shapiro_p = stats.shapiro(ols.resid)\n",
    "\n",
    "# Homoscedasticity: Breusch–Pagan and White\n",
    "bp_lm, bp_lm_p, bp_f, bp_f_p = sms.het_breuschpagan(ols.resid, ols.model.exog)\n",
    "white_lm, white_lm_p, white_f, white_f_p = sms.het_white(ols.resid, ols.model.exog)\n",
    "\n",
    "# Linearity: Ramsey RESET\n",
    "reset = sms.linear_reset(ols, power=2, use_f=True)\n",
    "reset_F, reset_p = reset.fvalue, reset.pvalue\n",
    "\n",
    "# Autocorrelation: Durbin–Watson\n",
    "dw = sm.stats.stattools.durbin_watson(ols.resid)\n",
    "\n",
    "# Multicollinearity: VIFs\n",
    "exog = ols.model.exog\n",
    "names = ols.model.exog_names\n",
    "vif = pd.DataFrame({\n",
    "    \"feature\": names,\n",
    "    \"VIF\": [variance_inflation_factor(exog, i) for i in range(exog.shape[1])]\n",
    "})\n",
    "\n",
    "diag = pd.DataFrame({\n",
    "    \"Test\": [\n",
    "        \"Shapiro–Wilk (Normality)\",\n",
    "        \"Breusch–Pagan LM p-value\",\n",
    "        \"Breusch–Pagan F p-value\",\n",
    "        \"White LM p-value\",\n",
    "        \"White F p-value\",\n",
    "        \"Ramsey RESET F p-value\",\n",
    "        \"Durbin–Watson\"\n",
    "    ],\n",
    "    \"Statistic / p-value\":[\n",
    "        f\"stat={shapiro_stat:.4f}, p={shapiro_p:.4f}\",\n",
    "        f\"p={bp_lm_p:.4f}\",\n",
    "        f\"p={bp_f_p:.4f}\",\n",
    "        f\"p={white_lm_p:.4f}\",\n",
    "        f\"p={white_f_p:.4f}\",\n",
    "        f\"F={reset_F:.4f}, p={reset_p:.4f}\",\n",
    "        f\"{dw:.4f}\"\n",
    "    ]\n",
    "})\n",
    "display(diag)\n",
    "display(vif)\n"
   ]
  },
  {
   "cell_type": "markdown",
   "id": "c86e7ddc",
   "metadata": {},
   "source": [
    "# Report \n",
    "\n",
    "$$\n",
    "\\hat Y \\;=\\; 1.5645 \\;+\\; 0.2372\\,X_1 \\;-\\; 0.000249\\,X_2. \\tag{13}\n",
    "$$\n",
    "\n",
    "\n",
    "Higher **revenue per dollar** ($X_1$​) is associated with **higher** profit margins; a larger **number of offices** ($X_2$​,  competition/expansion) is associated with **lower** margins.\n",
    "\n",
    "The plane explains **86.5%** of the variance ($adj. R^2=0.853$). The joint $F-test$ is highly significant ($p\\ll 0.001$).\n",
    "\n",
    "\n",
    "I ran standard specification tests:\n",
    "\n",
    "| Assumption            | Test                                | Result (you can report)     | Interpretation                                                                           |\n",
    "| --------------------- | ----------------------------------- | --------------------------- | ---------------------------------------------------------------------------------------- |\n",
    "| **Normality**         | Shapiro–Wilk on residuals           | $p\\approx 0.645$            | Large $p$ ⇒ residuals consistent with normality.                                         |\n",
    "| **Homoscedasticity**  | Breusch–Pagan (LM & F)              | $p\\approx 0.43\\text{–}0.46$ | Large $p$ ⇒ no evidence of non-constant variance.                                        |\n",
    "|                       | White (LM & F)                      | $p\\approx 0.59\\text{–}0.66$ | Same conclusion as BP.                                                                   |\n",
    "| **Linearity**         | Ramsey RESET (add powers of fitted) | $p\\approx 0.62$             | Large $p$ ⇒ no strong sign of omitted nonlinear terms.                                   |\n",
    "| **Autocorrelation**   | Durbin–Watson                       | $DW\\approx 1.95$            | Near 2 ⇒ no serial correlation.                                                          |\n",
    "| **Multicollinearity** | VIF for $X_1,X_2$                   | $\\text{VIF}\\approx 8.7$     | “Moderately high” collinearity ⇒ SEs inflated; still both slopes are highly significant. |\n",
    "\n",
    "\n",
    "- **Normality (Shapiro–Wilk)**, **Homoscedasticity (Breusch–Pagan & White)**, and **Linearity (RESET)** were computed with `statsmodels.stats` on the same fitted model.\n",
    "- **Autocorrelation (DW)** appears in your OLS report (1.948).\n",
    "- **VIF** was computed from the model design matrix (both around 8.7).\n"
   ]
  },
  {
   "cell_type": "markdown",
   "id": "9db8ee62",
   "metadata": {},
   "source": [
    "\n",
    "### Residual Plots\n"
   ]
  },
  {
   "cell_type": "code",
   "execution_count": 48,
   "id": "8d56c489",
   "metadata": {},
   "outputs": [
    {
     "data": {
      "text/plain": [
       "<Figure size 640x480 with 0 Axes>"
      ]
     },
     "metadata": {},
     "output_type": "display_data"
    },
    {
     "data": {
      "image/png": "[encoded data removed]",
      "text/plain": [
       "<Figure size 640x480 with 1 Axes>"
      ]
     },
     "metadata": {},
     "output_type": "display_data"
    },
    {
     "data": {
      "image/png": "[encoded data removed]",
      "text/plain": [
       "<Figure size 640x480 with 1 Axes>"
      ]
     },
     "metadata": {},
     "output_type": "display_data"
    }
   ],
   "source": [
    "\n",
    "# Q–Q plot\n",
    "fig = plt.figure()\n",
    "sm.qqplot(ols.resid, line=\"45\", fit=True)\n",
    "plt.title(\"Q–Q Plot of Residuals\")\n",
    "plt.show()\n",
    "\n",
    "# Residuals vs Fitted\n",
    "plt.figure()\n",
    "plt.scatter(ols.fittedvalues, ols.resid)\n",
    "plt.axhline(0, linestyle=\"--\")\n",
    "plt.xlabel(\"Fitted values\")\n",
    "plt.ylabel(\"Residuals\")\n",
    "plt.title(\"Residuals vs Fitted\")\n",
    "plt.show()\n"
   ]
  },
  {
   "cell_type": "markdown",
   "id": "91fffb89",
   "metadata": {},
   "source": [
    "\n",
    "## 4) 3D Interactive Hyperplane (Plotly)\n"
   ]
  },
  {
   "cell_type": "code",
   "execution_count": 49,
   "id": "04727a56",
   "metadata": {},
   "outputs": [
    {
     "data": {
      "application/vnd.plotly.v1+json": {
       "config": {
        "plotlyServerURL": "https://plot.ly"
       },
       "data": [
        {
         "marker": {
          "size": 5
         },
         "mode": "markers",
         "name": "Observed",
         "type": "scatter3d",
         "x": {
          "bdata": "XI/C9ShcD0DhehSuR+EMQI/C9ShcjwpAj8L1KFyPCEB7FK5H4XoIQOF6FK5H4QhArkfhehSuCUAUrkfhehQKQFyPwvUoXAtAXI/C9ShcC0CamZmZmZkLQKRwPQrXowxASOF6FK5HDUA9CtejcD0OQI/C9Shcjw5Aw/UoXI/CD0BI4XoUrkcQQAAAAAAAABFApHA9CtejEUD2KFyPwvURQM3MzMzMzBJAUrgehetREkDD9Shcj8ISQNejcD0K1xJAH4XrUbgeE0A=",
          "dtype": "f8"
         },
         "y": {
          "bdata": "ghzHGuwZahkyGQIZ4BjEGM0Y0BjZGOEYkhkQGuoayxufHHod+x6hHxQhDSIfI9sjZiQ=",
          "dtype": "i2"
         },
         "z": {
          "bdata": "AAAAAAAA6D+4HoXrUbjmPx+F61G4HuU/hetRuB6F4z9mZmZmZmbmPwrXo3A9Cuc/pHA9Ctej6D+uR+F6FK7nP83MzMzMzOw/PQrXo3A96j8AAAAAAADoP6RwPQrXo+g/9ihcj8L16D/hehSuR+HqP0jhehSuR+k/ZmZmZmZm5j/D9Shcj8LlPwrXo3A9Cuc/mpmZmZmZ4T8pXI/C9SjkP+xRuB6F6+E/PQrXo3A92j9SuB6F61HgPxSuR+F6FN4/exSuR+F61D8=",
          "dtype": "f8"
         }
        },
        {
         "name": "Fitted plane",
         "opacity": 0.6,
         "type": "surface",
         "x": {
          "bdata": "exSuR+F6CEAp32j7WPQIQNipI6/QbQlAhnTeYkjnCUA1P5kWwGAKQOMJVMo32gpAktQOfq9TC0BAn8kxJ80LQO9phOWeRgxAnTQ/mRbADEBM//lMjjkNQPrJtAAGsw1AqJRvtH0sDkBXXypo9aUOQAUq5RttHw9AtPSfz+SYD0CxX61BLgkQQAjFihvqRRBAYCpo9aWCEEC3j0XPYb8QQA71Iqkd/BBAZVoAg9k4EUC8v91clXURQBQluzZRshFAa4qYEA3vEUDC73XqyCsSQBpVU8SEaBJAcLownkClEkDIHw54/OESQB+F61G4HhNA",
          "dtype": "f8"
         },
         "y": {
          "bdata": "AAAAAADEuEAJyz2NsCq5QBKWexphkblAGmG5pxH4uUAjLPc0wl66QCz3NMJyxbpANcJyTyMsu0A+jbDc05K7QEdY7mmE+btAUCMs9zRgvEBY7mmE5ca8QGG5pxGWLb1AaoTlnkaUvUBzTyMs9/q9QHwaYbmnYb5AhOWeRljIvkCNsNzTCC+/QJZ7GmG5lb9An0ZY7mn8v0DUCMs9jTHAQFjuaYTlZMBA3dMIyz2YwEBhuacRlsvAQOaeRlju/sBAaoTlnkYywUDuaYTlnmXBQHNPIyz3mMFA9zTCck/MwUB8GmG5p//BQAAAAAAAM8JA",
          "dtype": "f8"
         },
         "z": {
          "bdata": "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",
          "dtype": "f8",
          "shape": "30, 30"
         }
        }
       ],
       "layout": {
        "height": 650,
        "scene": {
         "xaxis": {
          "title": {
           "text": "X1"
          }
         },
         "yaxis": {
          "title": {
           "text": "X2"
          }
         },
         "zaxis": {
          "title": {
           "text": "Y"
          }
         }
        },
        "template": {
         "data": {
          "bar": [
           {
            "error_x": {
             "color": "#2a3f5f"
            },
            "error_y": {
             "color": "#2a3f5f"
            },
            "marker": {
             "line": {
              "color": "#E5ECF6",
              "width": 0.5
             },
             "pattern": {
              "fillmode": "overlay",
              "size": 10,
              "solidity": 0.2
             }
            },
            "type": "bar"
           }
          ],
          "barpolar": [
           {
            "marker": {
             "line": {
              "color": "#E5ECF6",
              "width": 0.5
             },
             "pattern": {
              "fillmode": "overlay",
              "size": 10,
              "solidity": 0.2
             }
            },
            "type": "barpolar"
           }
          ],
          "carpet": [
           {
            "aaxis": {
             "endlinecolor": "#2a3f5f",
             "gridcolor": "white",
             "linecolor": "white",
             "minorgridcolor": "white",
             "startlinecolor": "#2a3f5f"
            },
            "baxis": {
             "endlinecolor": "#2a3f5f",
             "gridcolor": "white",
             "linecolor": "white",
             "minorgridcolor": "white",
             "startlinecolor": "#2a3f5f"
            },
            "type": "carpet"
           }
          ],
          "choropleth": [
           {
            "colorbar": {
             "outlinewidth": 0,
             "ticks": ""
            },
            "type": "choropleth"
           }
          ],
          "contour": [
           {
            "colorbar": {
             "outlinewidth": 0,
             "ticks": ""
            },
            "colorscale": [
             [
              0,
              "#0d0887"
             ],
             [
              0.1111111111111111,
              "#46039f"
             ],
             [
              0.2222222222222222,
              "#7201a8"
             ],
             [
              0.3333333333333333,
              "#9c179e"
             ],
             [
              0.4444444444444444,
              "#bd3786"
             ],
             [
              0.5555555555555556,
              "#d8576b"
             ],
             [
              0.6666666666666666,
              "#ed7953"
             ],
             [
              0.7777777777777778,
              "#fb9f3a"
             ],
             [
              0.8888888888888888,
              "#fdca26"
             ],
             [
              1,
              "#f0f921"
             ]
            ],
            "type": "contour"
           }
          ],
          "contourcarpet": [
           {
            "colorbar": {
             "outlinewidth": 0,
             "ticks": ""
            },
            "type": "contourcarpet"
           }
          ],
          "heatmap": [
           {
            "colorbar": {
             "outlinewidth": 0,
             "ticks": ""
            },
            "colorscale": [
             [
              0,
              "#0d0887"
             ],
             [
              0.1111111111111111,
              "#46039f"
             ],
             [
              0.2222222222222222,
              "#7201a8"
             ],
             [
              0.3333333333333333,
              "#9c179e"
             ],
             [
              0.4444444444444444,
              "#bd3786"
             ],
             [
              0.5555555555555556,
              "#d8576b"
             ],
             [
              0.6666666666666666,
              "#ed7953"
             ],
             [
              0.7777777777777778,
              "#fb9f3a"
             ],
             [
              0.8888888888888888,
              "#fdca26"
             ],
             [
              1,
              "#f0f921"
             ]
            ],
            "type": "heatmap"
           }
          ],
          "histogram": [
           {
            "marker": {
             "pattern": {
              "fillmode": "overlay",
              "size": 10,
              "solidity": 0.2
             }
            },
            "type": "histogram"
           }
          ],
          "histogram2d": [
           {
            "colorbar": {
             "outlinewidth": 0,
             "ticks": ""
            },
            "colorscale": [
             [
              0,
              "#0d0887"
             ],
             [
              0.1111111111111111,
              "#46039f"
             ],
             [
              0.2222222222222222,
              "#7201a8"
             ],
             [
              0.3333333333333333,
              "#9c179e"
             ],
             [
              0.4444444444444444,
              "#bd3786"
             ],
             [
              0.5555555555555556,
              "#d8576b"
             ],
             [
              0.6666666666666666,
              "#ed7953"
             ],
             [
              0.7777777777777778,
              "#fb9f3a"
             ],
             [
              0.8888888888888888,
              "#fdca26"
             ],
             [
              1,
              "#f0f921"
             ]
            ],
            "type": "histogram2d"
           }
          ],
          "histogram2dcontour": [
           {
            "colorbar": {
             "outlinewidth": 0,
             "ticks": ""
            },
            "colorscale": [
             [
              0,
              "#0d0887"
             ],
             [
              0.1111111111111111,
              "#46039f"
             ],
             [
              0.2222222222222222,
              "#7201a8"
             ],
             [
              0.3333333333333333,
              "#9c179e"
             ],
             [
              0.4444444444444444,
              "#bd3786"
             ],
             [
              0.5555555555555556,
              "#d8576b"
             ],
             [
              0.6666666666666666,
              "#ed7953"
             ],
             [
              0.7777777777777778,
              "#fb9f3a"
             ],
             [
              0.8888888888888888,
              "#fdca26"
             ],
             [
              1,
              "#f0f921"
             ]
            ],
            "type": "histogram2dcontour"
           }
          ],
          "mesh3d": [
           {
            "colorbar": {
             "outlinewidth": 0,
             "ticks": ""
            },
            "type": "mesh3d"
           }
          ],
          "parcoords": [
           {
            "line": {
             "colorbar": {
              "outlinewidth": 0,
              "ticks": ""
             }
            },
            "type": "parcoords"
           }
          ],
          "pie": [
           {
            "automargin": true,
            "type": "pie"
           }
          ],
          "scatter": [
           {
            "fillpattern": {
             "fillmode": "overlay",
             "size": 10,
             "solidity": 0.2
            },
            "type": "scatter"
           }
          ],
          "scatter3d": [
           {
            "line": {
             "colorbar": {
              "outlinewidth": 0,
              "ticks": ""
             }
            },
            "marker": {
             "colorbar": {
              "outlinewidth": 0,
              "ticks": ""
             }
            },
            "type": "scatter3d"
           }
          ],
          "scattercarpet": [
           {
            "marker": {
             "colorbar": {
              "outlinewidth": 0,
              "ticks": ""
             }
            },
            "type": "scattercarpet"
           }
          ],
          "scattergeo": [
           {
            "marker": {
             "colorbar": {
              "outlinewidth": 0,
              "ticks": ""
             }
            },
            "type": "scattergeo"
           }
          ],
          "scattergl": [
           {
            "marker": {
             "colorbar": {
              "outlinewidth": 0,
              "ticks": ""
             }
            },
            "type": "scattergl"
           }
          ],
          "scattermap": [
           {
            "marker": {
             "colorbar": {
              "outlinewidth": 0,
              "ticks": ""
             }
            },
            "type": "scattermap"
           }
          ],
          "scattermapbox": [
           {
            "marker": {
             "colorbar": {
              "outlinewidth": 0,
              "ticks": ""
             }
            },
            "type": "scattermapbox"
           }
          ],
          "scatterpolar": [
           {
            "marker": {
             "colorbar": {
              "outlinewidth": 0,
              "ticks": ""
             }
            },
            "type": "scatterpolar"
           }
          ],
          "scatterpolargl": [
           {
            "marker": {
             "colorbar": {
              "outlinewidth": 0,
              "ticks": ""
             }
            },
            "type": "scatterpolargl"
           }
          ],
          "scatterternary": [
           {
            "marker": {
             "colorbar": {
              "outlinewidth": 0,
              "ticks": ""
             }
            },
            "type": "scatterternary"
           }
          ],
          "surface": [
           {
            "colorbar": {
             "outlinewidth": 0,
             "ticks": ""
            },
            "colorscale": [
             [
              0,
              "#0d0887"
             ],
             [
              0.1111111111111111,
              "#46039f"
             ],
             [
              0.2222222222222222,
              "#7201a8"
             ],
             [
              0.3333333333333333,
              "#9c179e"
             ],
             [
              0.4444444444444444,
              "#bd3786"
             ],
             [
              0.5555555555555556,
              "#d8576b"
             ],
             [
              0.6666666666666666,
              "#ed7953"
             ],
             [
              0.7777777777777778,
              "#fb9f3a"
             ],
             [
              0.8888888888888888,
              "#fdca26"
             ],
             [
              1,
              "#f0f921"
             ]
            ],
            "type": "surface"
           }
          ],
          "table": [
           {
            "cells": {
             "fill": {
              "color": "#EBF0F8"
             },
             "line": {
              "color": "white"
             }
            },
            "header": {
             "fill": {
              "color": "#C8D4E3"
             },
             "line": {
              "color": "white"
             }
            },
            "type": "table"
           }
          ]
         },
         "layout": {
          "annotationdefaults": {
           "arrowcolor": "#2a3f5f",
           "arrowhead": 0,
           "arrowwidth": 1
          },
          "autotypenumbers": "strict",
          "coloraxis": {
           "colorbar": {
            "outlinewidth": 0,
            "ticks": ""
           }
          },
          "colorscale": {
           "diverging": [
            [
             0,
             "#8e0152"
            ],
            [
             0.1,
             "#c51b7d"
            ],
            [
             0.2,
             "#de77ae"
            ],
            [
             0.3,
             "#f1b6da"
            ],
            [
             0.4,
             "#fde0ef"
            ],
            [
             0.5,
             "#f7f7f7"
            ],
            [
             0.6,
             "#e6f5d0"
            ],
            [
             0.7,
             "#b8e186"
            ],
            [
             0.8,
             "#7fbc41"
            ],
            [
             0.9,
             "#4d9221"
            ],
            [
             1,
             "#276419"
            ]
           ],
           "sequential": [
            [
             0,
             "#0d0887"
            ],
            [
             0.1111111111111111,
             "#46039f"
            ],
            [
             0.2222222222222222,
             "#7201a8"
            ],
            [
             0.3333333333333333,
             "#9c179e"
            ],
            [
             0.4444444444444444,
             "#bd3786"
            ],
            [
             0.5555555555555556,
             "#d8576b"
            ],
            [
             0.6666666666666666,
             "#ed7953"
            ],
            [
             0.7777777777777778,
             "#fb9f3a"
            ],
            [
             0.8888888888888888,
             "#fdca26"
            ],
            [
             1,
             "#f0f921"
            ]
           ],
           "sequentialminus": [
            [
             0,
             "#0d0887"
            ],
            [
             0.1111111111111111,
             "#46039f"
            ],
            [
             0.2222222222222222,
             "#7201a8"
            ],
            [
             0.3333333333333333,
             "#9c179e"
            ],
            [
             0.4444444444444444,
             "#bd3786"
            ],
            [
             0.5555555555555556,
             "#d8576b"
            ],
            [
             0.6666666666666666,
             "#ed7953"
            ],
            [
             0.7777777777777778,
             "#fb9f3a"
            ],
            [
             0.8888888888888888,
             "#fdca26"
            ],
            [
             1,
             "#f0f921"
            ]
           ]
          },
          "colorway": [
           "#636efa",
           "#EF553B",
           "#00cc96",
           "#ab63fa",
           "#FFA15A",
           "#19d3f3",
           "#FF6692",
           "#B6E880",
           "#FF97FF",
           "#FECB52"
          ],
          "font": {
           "color": "#2a3f5f"
          },
          "geo": {
           "bgcolor": "white",
           "lakecolor": "white",
           "landcolor": "#E5ECF6",
           "showlakes": true,
           "showland": true,
           "subunitcolor": "white"
          },
          "hoverlabel": {
           "align": "left"
          },
          "hovermode": "closest",
          "mapbox": {
           "style": "light"
          },
          "paper_bgcolor": "white",
          "plot_bgcolor": "#E5ECF6",
          "polar": {
           "angularaxis": {
            "gridcolor": "white",
            "linecolor": "white",
            "ticks": ""
           },
           "bgcolor": "#E5ECF6",
           "radialaxis": {
            "gridcolor": "white",
            "linecolor": "white",
            "ticks": ""
           }
          },
          "scene": {
           "xaxis": {
            "backgroundcolor": "#E5ECF6",
            "gridcolor": "white",
            "gridwidth": 2,
            "linecolor": "white",
            "showbackground": true,
            "ticks": "",
            "zerolinecolor": "white"
           },
           "yaxis": {
            "backgroundcolor": "#E5ECF6",
            "gridcolor": "white",
            "gridwidth": 2,
            "linecolor": "white",
            "showbackground": true,
            "ticks": "",
            "zerolinecolor": "white"
           },
           "zaxis": {
            "backgroundcolor": "#E5ECF6",
            "gridcolor": "white",
            "gridwidth": 2,
            "linecolor": "white",
            "showbackground": true,
            "ticks": "",
            "zerolinecolor": "white"
           }
          },
          "shapedefaults": {
           "line": {
            "color": "#2a3f5f"
           }
          },
          "ternary": {
           "aaxis": {
            "gridcolor": "white",
            "linecolor": "white",
            "ticks": ""
           },
           "baxis": {
            "gridcolor": "white",
            "linecolor": "white",
            "ticks": ""
           },
           "bgcolor": "#E5ECF6",
           "caxis": {
            "gridcolor": "white",
            "linecolor": "white",
            "ticks": ""
           }
          },
          "title": {
           "x": 0.05
          },
          "xaxis": {
           "automargin": true,
           "gridcolor": "white",
           "linecolor": "white",
           "ticks": "",
           "title": {
            "standoff": 15
           },
           "zerolinecolor": "white",
           "zerolinewidth": 2
          },
          "yaxis": {
           "automargin": true,
           "gridcolor": "white",
           "linecolor": "white",
           "ticks": "",
           "title": {
            "standoff": 15
           },
           "zerolinecolor": "white",
           "zerolinewidth": 2
          }
         }
        },
        "title": {
         "text": "MLRM: Y vs X1 & X2"
        }
       }
      }
     },
     "metadata": {},
     "output_type": "display_data"
    }
   ],
   "source": [
    "\n",
    "x1_grid = np.linspace(df[\"X1\"].min(), df[\"X1\"].max(), 30)\n",
    "x2_grid = np.linspace(df[\"X2\"].min(), df[\"X2\"].max(), 30)\n",
    "X1G, X2G = np.meshgrid(x1_grid, x2_grid)\n",
    "Yhat_plane = ols.params[\"Intercept\"] + ols.params[\"X1\"]*X1G + ols.params[\"X2\"]*X2G\n",
    "\n",
    "fig3d = go.Figure()\n",
    "fig3d.add_trace(go.Scatter3d(\n",
    "    x=df[\"X1\"], y=df[\"X2\"], z=df[\"Y\"],\n",
    "    mode=\"markers\", marker=dict(size=5),\n",
    "    name=\"Observed\"\n",
    "))\n",
    "fig3d.add_trace(go.Surface(\n",
    "    x=x1_grid, y=x2_grid, z=Yhat_plane,\n",
    "    name=\"Fitted plane\", opacity=0.6\n",
    "))\n",
    "fig3d.update_layout(\n",
    "    title=\"MLRM: Y vs X1 & X2\",\n",
    "    scene=dict(xaxis_title=\"X1\", yaxis_title=\"X2\", zaxis_title=\"Y\"),\n",
    "    height=650\n",
    ")\n",
    "fig3d.show()\n"
   ]
  },
  {
   "cell_type": "markdown",
   "id": "9e81b148",
   "metadata": {},
   "source": [
    "\n",
    "## 5) ANN Baseline (with K‑Fold CV) and Comparison\n",
    "\n",
    "We try **Keras** if available; otherwise we use **scikit‑learn MLP** as a fallback. We report **5‑fold CV** metrics.\n"
   ]
  },
  {
   "cell_type": "code",
   "execution_count": 53,
   "id": "768d6c3b",
   "metadata": {},
   "outputs": [
    {
     "data": {
      "text/html": [
       "<div>\n",
       "<style scoped>\n",
       "    .dataframe tbody tr th:only-of-type {\n",
       "        vertical-align: middle;\n",
       "    }\n",
       "\n",
       "    .dataframe tbody tr th {\n",
       "        vertical-align: top;\n",
       "    }\n",
       "\n",
       "    .dataframe thead th {\n",
       "        text-align: right;\n",
       "    }\n",
       "</style>\n",
       "<table border=\"1\" class=\"dataframe\">\n",
       "  <thead>\n",
       "    <tr style=\"text-align: right;\">\n",
       "      <th></th>\n",
       "      <th>Model</th>\n",
       "      <th>R2</th>\n",
       "      <th>Adj R2</th>\n",
       "      <th>RMSE / S</th>\n",
       "      <th>Validation</th>\n",
       "    </tr>\n",
       "  </thead>\n",
       "  <tbody>\n",
       "    <tr>\n",
       "      <th>0</th>\n",
       "      <td>MLRM (OLS) — in-sample</td>\n",
       "      <td>0.865296</td>\n",
       "      <td>0.853050</td>\n",
       "      <td>0.050002</td>\n",
       "      <td>in-sample</td>\n",
       "    </tr>\n",
       "    <tr>\n",
       "      <th>1</th>\n",
       "      <td>ANN — 5-fold CV (sklearn)</td>\n",
       "      <td>0.717817</td>\n",
       "      <td>NaN</td>\n",
       "      <td>0.072371</td>\n",
       "      <td>5-fold CV</td>\n",
       "    </tr>\n",
       "    <tr>\n",
       "      <th>2</th>\n",
       "      <td>ANN — 5-fold CV (Keras)</td>\n",
       "      <td>-3.373880</td>\n",
       "      <td>NaN</td>\n",
       "      <td>0.284925</td>\n",
       "      <td>5-fold CV</td>\n",
       "    </tr>\n",
       "  </tbody>\n",
       "</table>\n",
       "</div>"
      ],
      "text/plain": [
       "                       Model        R2   Adj R2  RMSE / S Validation\n",
       "0     MLRM (OLS) — in-sample  0.865296 0.853050  0.050002  in-sample\n",
       "1  ANN — 5-fold CV (sklearn)  0.717817      NaN  0.072371  5-fold CV\n",
       "2    ANN — 5-fold CV (Keras) -3.373880      NaN  0.284925  5-fold CV"
      ]
     },
     "metadata": {},
     "output_type": "display_data"
    }
   ],
   "source": [
    "from sklearn.model_selection import KFold\n",
    "from sklearn.pipeline import Pipeline\n",
    "from sklearn.preprocessing import StandardScaler\n",
    "from sklearn.neural_network import MLPRegressor\n",
    "from sklearn.metrics import r2_score, mean_squared_error\n",
    "import numpy as np\n",
    "import pandas as pd\n",
    "\n",
    "X = df[[\"X1\",\"X2\"]].values\n",
    "y = df[\"Y\"].values\n",
    "\n",
    "def cv_report(preds, trues):\n",
    "    r2 = r2_score(trues, preds)\n",
    "    rmse = np.sqrt(mean_squared_error(trues, preds))\n",
    "    return r2, rmse\n",
    "\n",
    "keras_cv = None\n",
    "if TF_AVAILABLE:\n",
    "    from tensorflow import keras\n",
    "    def build_model():\n",
    "        model = keras.Sequential([\n",
    "            keras.layers.Input(shape=(2,)),\n",
    "            keras.layers.Normalization(),\n",
    "            keras.layers.Dense(3, activation=\"relu\"),\n",
    "            keras.layers.Dense(3, activation=\"relu\"),\n",
    "            keras.layers.Dense(1)\n",
    "        ])\n",
    "        model.compile(optimizer=keras.optimizers.Adam(learning_rate=0.0001),\n",
    "                      loss=\"mse\")\n",
    "        return model\n",
    "\n",
    "    kf = KFold(n_splits=5, shuffle=True, random_state=42)\n",
    "    y_true_all, y_pred_all = [], []\n",
    "    for tr, te in kf.split(X):\n",
    "        m = build_model()\n",
    "        m.fit(X[tr], y[tr], epochs=3000, verbose=0, batch_size=64)\n",
    "        y_pred_all.extend(m.predict(X[te], verbose=0).ravel())\n",
    "        y_true_all.extend(y[te])\n",
    "    r2_k = r2_score(y_true_all, y_pred_all)\n",
    "    rmse_k = np.sqrt(mean_squared_error(y_true_all, y_pred_all))\n",
    "    keras_cv = {\"R2_CV\": r2_k, \"RMSE_CV\": rmse_k}\n",
    "\n",
    "# scikit-learn fallback ANN\n",
    "kf = KFold(n_splits=5, shuffle=True, random_state=42)\n",
    "y_true_all, y_pred_all = [], []\n",
    "pipe = Pipeline([\n",
    "    (\"scaler\", StandardScaler()),\n",
    "    (\"mlp\", MLPRegressor(hidden_layer_sizes=(8,),\n",
    "                         activation=\"relu\", solver=\"lbfgs\",\n",
    "                         alpha=1e-3, max_iter=2000, random_state=0))\n",
    "])\n",
    "for tr, te in kf.split(X):\n",
    "    pipe.fit(X[tr], y[tr])\n",
    "    y_pred_all.extend(pipe.predict(X[te]))\n",
    "    y_true_all.extend(y[te])\n",
    "r2_s = r2_score(y_true_all, y_pred_all)\n",
    "rmse_s = np.sqrt(mean_squared_error(y_true_all, y_pred_all))\n",
    "\n",
    "# Compare to OLS\n",
    "mlrm_r2 = float(ols.rsquared)\n",
    "mlrm_adj = float(ols.rsquared_adj)\n",
    "S_resid = float(np.sqrt(np.mean(ols.resid**2)))\n",
    "\n",
    "rows = [\n",
    "    {\"Model\":\"MLRM (OLS) — in-sample\",\n",
    "     \"R2\": mlrm_r2, \"Adj R2\": mlrm_adj, \"RMSE / S\": S_resid, \"Validation\": \"in-sample\"},\n",
    "    {\"Model\":\"ANN — 5-fold CV (sklearn)\",\n",
    "     \"R2\": r2_s, \"Adj R2\": np.nan, \"RMSE / S\": rmse_s, \"Validation\": \"5-fold CV\"},\n",
    "]\n",
    "if keras_cv is not None:\n",
    "    rows.append({\"Model\":\"ANN — 5-fold CV (Keras)\",\n",
    "                 \"R2\": float(keras_cv[\"R2_CV\"]), \"Adj R2\": np.nan,\n",
    "                 \"RMSE / S\": float(keras_cv[\"RMSE_CV\"]), \"Validation\": \"5-fold CV\"})\n",
    "\n",
    "cmp_df = pd.DataFrame(rows)\n",
    "display(cmp_df)"
   ]
  },
  {
   "cell_type": "code",
   "execution_count": 66,
   "id": "7fc158da",
   "metadata": {},
   "outputs": [
    {
     "name": "stdout",
     "output_type": "stream",
     "text": [
      "Train: R2=-0.696, RMSE=0.1734\n",
      "Test: R2=-0.390, RMSE=0.1665\n"
     ]
    }
   ],
   "source": [
    "# import train_test_split\n",
    "from sklearn.model_selection import train_test_split\n",
    "from sklearn.metrics import r2_score, mean_squared_error\n",
    "\n",
    "X_tr, X_te, y_tr, y_te = train_test_split(X, y, test_size=0.2, random_state=42)\n",
    "\n",
    "def build_model():\n",
    "    return keras.Sequential([\n",
    "        keras.layers.Input(shape=(2,)),\n",
    "        keras.layers.Normalization(),\n",
    "        keras.layers.Dense(3, activation=\"relu\"),\n",
    "        keras.layers.Dense(1)  # linear output for regression\n",
    "    ])\n",
    "\n",
    "model = build_model()\n",
    "model.compile(optimizer=keras.optimizers.Adam(learning_rate=1e-3), loss=\"mse\")\n",
    "\n",
    "\n",
    "\n",
    "cb = [\n",
    "    keras.callbacks.EarlyStopping(monitor=\"val_loss\", patience=15,\n",
    "                                  restore_best_weights=True),]\n",
    "\n",
    "hist = model.fit(X_tr, y_tr,\n",
    "                 validation_data=(X_te, y_te),\n",
    "                 epochs=300, batch_size=8, verbose=0, callbacks=cb)\n",
    "\n",
    "# Evaluate: RMSE and R^2 on BOTH train and test\n",
    "import math\n",
    "from sklearn.metrics import r2_score, mean_squared_error\n",
    "\n",
    "yhat_tr = model.predict(X_tr, verbose=0).ravel()\n",
    "yhat_te = model.predict(X_te, verbose=0).ravel()\n",
    "\n",
    "def report(y_true, y_pred, label):\n",
    "    r2 = r2_score(y_true, y_pred)\n",
    "    rmse = math.sqrt(mean_squared_error(y_true, y_pred))\n",
    "    print(f\"{label}: R2={r2:.3f}, RMSE={rmse:.4f}\")\n",
    "\n",
    "report(y_tr, yhat_tr, \"Train\")\n",
    "report(y_te, yhat_te, \"Test\")"
   ]
  },
  {
   "cell_type": "code",
   "execution_count": 76,
   "id": "30181192",
   "metadata": {},
   "outputs": [
    {
     "name": "stdout",
     "output_type": "stream",
     "text": [
      "Linear Train: R2=0.839, RMSE=0.0535\n",
      "Linear Test: R2=0.744, RMSE=0.0715\n"
     ]
    }
   ],
   "source": [
    "from sklearn.model_selection import train_test_split\n",
    "X_tr, X_te, y_tr, y_te = train_test_split(X, y, test_size=0.2, random_state=42)\n",
    "\n",
    "import tensorflow as tf\n",
    "from tensorflow import keras\n",
    "\n",
    "# 1) Per-split normalization (CRITICAL): adapt on TRAIN only\n",
    "norm = keras.layers.Normalization()\n",
    "norm.adapt(X_tr)\n",
    "\n",
    "# 2) Baseline linear model = OLS in Keras\n",
    "lin = keras.Sequential([\n",
    "    keras.layers.Input(shape=(2,)),\n",
    "    norm,\n",
    "    keras.layers.Dense(1, activation=\"linear\", use_bias=True)\n",
    "])\n",
    "lin.compile(optimizer=keras.optimizers.Adam(learning_rate=1e-2), loss=\"mse\")\n",
    "\n",
    "cb = [keras.callbacks.EarlyStopping(monitor=\"val_loss\", patience=50,\n",
    "                                    restore_best_weights=True)]\n",
    "hist = lin.fit(X_tr, y_tr, validation_data=(X_te, y_te),\n",
    "               epochs=1000, batch_size=8, verbose=0, callbacks=cb)\n",
    "\n",
    "import numpy as np, math\n",
    "from sklearn.metrics import r2_score, mean_squared_error\n",
    "\n",
    "yhat_tr = lin.predict(X_tr, verbose=0).ravel()\n",
    "yhat_te = lin.predict(X_te, verbose=0).ravel()\n",
    "\n",
    "def report(y_true, y_pred, label):\n",
    "    r2 = r2_score(y_true, y_pred)\n",
    "    rmse = math.sqrt(mean_squared_error(y_true, y_pred))\n",
    "    print(f\"{label}: R2={r2:.3f}, RMSE={rmse:.4f}\")\n",
    "\n",
    "report(y_tr, yhat_tr, \"Linear Train\")\n",
    "report(y_te, yhat_te, \"Linear Test\")\n"
   ]
  },
  {
   "cell_type": "code",
   "execution_count": null,
   "id": "10b2e810",
   "metadata": {},
   "outputs": [
    {
     "name": "stdout",
     "output_type": "stream",
     "text": [
      "tanh Train: R2=0.756, RMSE=0.0657\n",
      "tanh Test: R2=0.767, RMSE=0.0681\n"
     ]
    }
   ],
   "source": [
    "from sklearn.model_selection import train_test_split\n",
    "X_tr, X_te, y_tr, y_te = train_test_split(X, y, test_size=0.2, random_state=42)\n",
    "\n",
    "from tensorflow import keras\n",
    "\n",
    "# Per-split normalization (adapt on TRAIN only)\n",
    "norm = keras.layers.Normalization()\n",
    "norm.adapt(X_tr)\n",
    "\n",
    "def build_tanh(norm):\n",
    "    return keras.Sequential([\n",
    "        keras.layers.Input(shape=(2,)),\n",
    "        norm,\n",
    "        keras.layers.Dense(8, activation=\"tanh\",\n",
    "                           kernel_initializer=\"glorot_uniform\",\n",
    "                           kernel_regularizer=keras.regularizers.l2(1e-4)),\n",
    "        keras.layers.Dense(1)  # linear output\n",
    "    ])\n",
    "\n",
    "model_tanh = build_tanh(norm)\n",
    "model_tanh.compile(optimizer=keras.optimizers.Adam(1e-3), loss=\"mse\")\n",
    "\n",
    "callbacks = [\n",
    "    keras.callbacks.EarlyStopping(monitor=\"val_loss\", patience=50,\n",
    "                                  restore_best_weights=True),\n",
    "    keras.callbacks.ReduceLROnPlateau(monitor=\"val_loss\", factor=0.5,\n",
    "                                      patience=20, min_lr=1e-5),\n",
    "]\n",
    "\n",
    "history_tanh = model_tanh.fit(\n",
    "    X_tr, y_tr,\n",
    "    validation_data=(X_te, y_te),\n",
    "    epochs=1000, batch_size=8, verbose=0, callbacks=callbacks\n",
    ")\n",
    "\n",
    "# Predict WITH THE MODEL (not the history)\n",
    "import math\n",
    "from sklearn.metrics import r2_score, mean_squared_error\n",
    "\n",
    "yhat_tr = model_tanh.predict(X_tr, verbose=0).ravel()\n",
    "yhat_te = model_tanh.predict(X_te, verbose=0).ravel()\n",
    "\n",
    "def report(y_true, y_pred, label):\n",
    "    r2 = r2_score(y_true, y_pred)\n",
    "    rmse = math.sqrt(mean_squared_error(y_true, y_pred))\n",
    "    print(f\"{label}: R2={r2:.3f}, RMSE={rmse:.4f}\")\n",
    "\n",
    "report(y_tr, yhat_tr, \"tanh Train\")\n",
    "report(y_te, yhat_te, \"tanh Test\")"
   ]
  },
  {
   "cell_type": "code",
   "execution_count": 84,
   "id": "549e331b",
   "metadata": {},
   "outputs": [
    {
     "name": "stdout",
     "output_type": "stream",
     "text": [
      "relu Train: R2=-25.563, RMSE=0.6862\n",
      "relu Test: R2=-28.499, RMSE=0.7670\n"
     ]
    }
   ],
   "source": [
    "from sklearn.model_selection import train_test_split\n",
    "X_tr, X_te, y_tr, y_te = train_test_split(X, y, test_size=0.2, random_state=42)\n",
    "\n",
    "from tensorflow import keras\n",
    "\n",
    "# Per-split normalization (adapt on TRAIN only)\n",
    "norm = keras.layers.Normalization()\n",
    "norm.adapt(X_tr)\n",
    "\n",
    "def build_relu(norm):\n",
    "    return keras.Sequential([\n",
    "        keras.layers.Input(shape=(2,)),\n",
    "        norm,\n",
    "        keras.layers.Dense(16, activation=\"relu\",\n",
    "                           kernel_initializer=\"he_normal\",\n",
    "                           bias_initializer=keras.initializers.Constant(0.1),\n",
    "                           kernel_regularizer=keras.regularizers.l2(1e-4)),\n",
    "        keras.layers.Dense(1)\n",
    "    ])\n",
    "\n",
    "\n",
    "\n",
    "model_relu = build_tanh(norm)\n",
    "model_relu.compile(optimizer=keras.optimizers.Adam(1e-3), loss=\"mse\")\n",
    "cb = [\n",
    "    keras.callbacks.EarlyStopping(monitor=\"val_loss\", patience=50,\n",
    "                                  restore_best_weights=True),\n",
    "    keras.callbacks.ReduceLROnPlateau(monitor=\"val_loss\", factor=0.5,\n",
    "                                      patience=20, min_lr=1e-5)\n",
    "]\n",
    "history_relu = model_relu.fit(\n",
    "    X_tr, y_tr,\n",
    "    validation_data=(X_te, y_te),\n",
    "    epochs=1000, batch_size=8, verbose=0, callbacks=callbacks\n",
    ")\n",
    "\n",
    "# Predict WITH THE MODEL (not the history)\n",
    "import math\n",
    "from sklearn.metrics import r2_score, mean_squared_error\n",
    "\n",
    "yhat_tr = model_relu.predict(X_tr, verbose=0).ravel()\n",
    "yhat_te = model_relu.predict(X_te, verbose=0).ravel()\n",
    "\n",
    "def report(y_true, y_pred, label):\n",
    "    r2 = r2_score(y_true, y_pred)\n",
    "    rmse = math.sqrt(mean_squared_error(y_true, y_pred))\n",
    "    print(f\"{label}: R2={r2:.3f}, RMSE={rmse:.4f}\")\n",
    "\n",
    "report(y_tr, yhat_tr, \"relu Train\")\n",
    "report(y_te, yhat_te, \"relu Test\")\n"
   ]
  },
  {
   "cell_type": "markdown",
   "id": "6a032d46",
   "metadata": {},
   "source": [
    "\n",
    "## 6) Complexity & Conclusions\n",
    "**Complexity.**  \n",
    "- **OLS (QR/SVD)**: ($\\mathcal{O}(n p^2 + p^3)$). With ($p=2$), it’s extremely fast and transparent.  \n",
    "- **ANN (1–2 hidden layers)**: per epoch $(\\mathcal{O}\\!\\big(n\\sum_l d_{l-1}d_l\\big))$; with ($E$) epochs total $(\\mathcal{O}(E n \\sum_l d_{l-1}d_l))$.\n",
    "\n",
    "**Key takeaways.**  \n",
    "- The linear model fits very well and passes standard diagnostics.  \n",
    "- VIFs show notable collinearity between ($X_1$) and ($X_2$).  \n",
    "- With ($n=25$), ANNs can overfit; use CV and keep networks small with regularization.\n"
   ]
  }
 ],
 "metadata": {
  "kernelspec": {
   "display_name": ".venv",
   "language": "python",
   "name": "python3"
  },
  "language_info": {
   "codemirror_mode": {
    "name": "ipython",
    "version": 3
   },
   "file_extension": ".py",
   "mimetype": "text/x-python",
   "name": "python",
   "nbconvert_exporter": "python",
   "pygments_lexer": "ipython3",
   "version": "3.10.12"
  }
 },
 "nbformat": 4,
 "nbformat_minor": 5
}
